{
 "cells": [
  {
   "cell_type": "code",
   "execution_count": 1,
   "metadata": {},
   "outputs": [],
   "source": [
    "from sklearn.datasets import make_classification\n",
    "from sklearn.ensemble import RandomForestClassifier\n",
    "from sklearn.model_selection import cross_val_score\n",
    "from hypercube import OFAT"
   ]
  },
  {
   "cell_type": "code",
   "execution_count": 2,
   "metadata": {},
   "outputs": [],
   "source": [
    "x, y = make_classification(n_samples=1000, n_features=10,\n",
    "                           class_sep=0.5, random_state=1)\n",
    "rf = RandomForestClassifier(random_state=1)\n",
    "param = {\n",
    "    \"n_estimators\": [75, 100],\n",
    "    \"max_depth\": [None, 10, 20],\n",
    "    \"min_samples_split\": [5, 10]\n",
    "}"
   ]
  },
  {
   "cell_type": "code",
   "execution_count": 3,
   "metadata": {},
   "outputs": [
    {
     "name": "stdout",
     "output_type": "stream",
     "text": [
      "    n_estimators100  n_estimators75  max_depth10  max_depth20  max_depthNone  \\\n",
      "0               0.0             1.0          0.0          0.0            1.0   \n",
      "1               0.0             1.0          0.0          0.0            1.0   \n",
      "2               0.0             1.0          1.0          0.0            0.0   \n",
      "3               0.0             1.0          1.0          0.0            0.0   \n",
      "4               0.0             1.0          0.0          1.0            0.0   \n",
      "5               0.0             1.0          0.0          1.0            0.0   \n",
      "6               1.0             0.0          0.0          0.0            1.0   \n",
      "7               1.0             0.0          0.0          0.0            1.0   \n",
      "8               1.0             0.0          1.0          0.0            0.0   \n",
      "9               1.0             0.0          1.0          0.0            0.0   \n",
      "10              1.0             0.0          0.0          1.0            0.0   \n",
      "11              1.0             0.0          0.0          1.0            0.0   \n",
      "\n",
      "    min_samples_split10  min_samples_split5  \n",
      "0                   0.0                 1.0  \n",
      "1                   1.0                 0.0  \n",
      "2                   0.0                 1.0  \n",
      "3                   1.0                 0.0  \n",
      "4                   0.0                 1.0  \n",
      "5                   1.0                 0.0  \n",
      "6                   0.0                 1.0  \n",
      "7                   1.0                 0.0  \n",
      "8                   0.0                 1.0  \n",
      "9                   1.0                 0.0  \n",
      "10                  0.0                 1.0  \n",
      "11                  1.0                 0.0  \n"
     ]
    },
    {
     "ename": "AttributeError",
     "evalue": "'OFAT' object has no attribute 'best_param'",
     "output_type": "error",
     "traceback": [
      "\u001b[1;31m---------------------------------------------------------------------------\u001b[0m",
      "\u001b[1;31mAttributeError\u001b[0m                            Traceback (most recent call last)",
      "\u001b[1;32mc:\\Users\\12105\\OneDrive\\Desktop\\hypercube\\demo.ipynb Cell 3\u001b[0m line \u001b[0;36m<cell line: 2>\u001b[1;34m()\u001b[0m\n\u001b[0;32m      <a href='vscode-notebook-cell:/c%3A/Users/12105/OneDrive/Desktop/hypercube/demo.ipynb#W2sZmlsZQ%3D%3D?line=0'>1</a>\u001b[0m ofat \u001b[39m=\u001b[39m OFAT(rf, param\u001b[39m=\u001b[39mparam, metric\u001b[39m=\u001b[39m\u001b[39m\"\u001b[39m\u001b[39maccuracy\u001b[39m\u001b[39m\"\u001b[39m, cv\u001b[39m=\u001b[39m\u001b[39m5\u001b[39m, random_state\u001b[39m=\u001b[39m\u001b[39m1\u001b[39m)\n\u001b[1;32m----> <a href='vscode-notebook-cell:/c%3A/Users/12105/OneDrive/Desktop/hypercube/demo.ipynb#W2sZmlsZQ%3D%3D?line=1'>2</a>\u001b[0m ofat\u001b[39m.\u001b[39;49mfit(x, y, \u001b[39m'\u001b[39;49m\u001b[39manova\u001b[39;49m\u001b[39m'\u001b[39;49m, alpha\u001b[39m=\u001b[39;49m\u001b[39m0.1\u001b[39;49m)\n",
      "File \u001b[1;32mc:\\Users\\12105\\OneDrive\\Desktop\\hypercube\\base\\cube_functions.py:102\u001b[0m, in \u001b[0;36m_ofat_.fit\u001b[1;34m(self, x, y, method, alpha)\u001b[0m\n\u001b[0;32m    100\u001b[0m \u001b[39melif\u001b[39;00m \u001b[39mself\u001b[39m\u001b[39m.\u001b[39mmethod \u001b[39m==\u001b[39m \u001b[39m\"\u001b[39m\u001b[39manova\u001b[39m\u001b[39m\"\u001b[39m:\n\u001b[0;32m    101\u001b[0m   \u001b[39mself\u001b[39m\u001b[39m.\u001b[39m_anova()\n\u001b[1;32m--> 102\u001b[0m \u001b[39mself\u001b[39;49m\u001b[39m.\u001b[39;49m_post_process()\n",
      "File \u001b[1;32mc:\\Users\\12105\\OneDrive\\Desktop\\hypercube\\base\\cube_base.py:174\u001b[0m, in \u001b[0;36mbase._post_process\u001b[1;34m(self)\u001b[0m\n\u001b[0;32m    168\u001b[0m \u001b[39mdef\u001b[39;00m \u001b[39m_post_process\u001b[39m(\u001b[39mself\u001b[39m) \u001b[39m-\u001b[39m\u001b[39m>\u001b[39m \u001b[39mNone\u001b[39;00m:\n\u001b[0;32m    169\u001b[0m \u001b[39m  \u001b[39m\u001b[39m\"\"\"\u001b[39;00m\n\u001b[0;32m    170\u001b[0m \u001b[39m  `Overview`: \u001b[39;00m\n\u001b[0;32m    171\u001b[0m \u001b[39m  A private method for post-processing the experiment results. Logging\u001b[39;00m\n\u001b[0;32m    172\u001b[0m \u001b[39m  key information as object attributes for easy access.\u001b[39;00m\n\u001b[0;32m    173\u001b[0m \u001b[39m  \"\"\"\u001b[39;00m\n\u001b[1;32m--> 174\u001b[0m   \u001b[39mself\u001b[39m\u001b[39m.\u001b[39mbest_model \u001b[39m=\u001b[39m deepcopy(\u001b[39mself\u001b[39m\u001b[39m.\u001b[39mestimator)\u001b[39m.\u001b[39mset_params(\u001b[39m*\u001b[39m\u001b[39m*\u001b[39m\u001b[39mself\u001b[39;49m\u001b[39m.\u001b[39;49mbest_param)\n\u001b[0;32m    175\u001b[0m   \u001b[39mself\u001b[39m\u001b[39m.\u001b[39mbest_model\u001b[39m.\u001b[39mfit(\u001b[39mself\u001b[39m\u001b[39m.\u001b[39mx, \u001b[39mself\u001b[39m\u001b[39m.\u001b[39my)\n",
      "\u001b[1;31mAttributeError\u001b[0m: 'OFAT' object has no attribute 'best_param'"
     ]
    }
   ],
   "source": [
    "ofat = OFAT(rf, param=param, metric=\"accuracy\", cv=5, random_state=1)\n",
    "ofat.fit(x, y, 'anova', alpha=0.1)"
   ]
  },
  {
   "cell_type": "code",
   "execution_count": 4,
   "metadata": {},
   "outputs": [
    {
     "data": {
      "text/plain": [
       "[{'n_estimators': '75', 'max_depth': 'None', 'min_samples_split': '5'},\n",
       " {'n_estimators': '75', 'max_depth': 'None', 'min_samples_split': '10'},\n",
       " {'n_estimators': '75', 'max_depth': '10', 'min_samples_split': '5'},\n",
       " {'n_estimators': '75', 'max_depth': '10', 'min_samples_split': '10'},\n",
       " {'n_estimators': '75', 'max_depth': '20', 'min_samples_split': '5'},\n",
       " {'n_estimators': '75', 'max_depth': '20', 'min_samples_split': '10'},\n",
       " {'n_estimators': '100', 'max_depth': 'None', 'min_samples_split': '5'},\n",
       " {'n_estimators': '100', 'max_depth': 'None', 'min_samples_split': '10'},\n",
       " {'n_estimators': '100', 'max_depth': '10', 'min_samples_split': '5'},\n",
       " {'n_estimators': '100', 'max_depth': '10', 'min_samples_split': '10'},\n",
       " {'n_estimators': '100', 'max_depth': '20', 'min_samples_split': '5'},\n",
       " {'n_estimators': '100', 'max_depth': '20', 'min_samples_split': '10'}]"
      ]
     },
     "execution_count": 4,
     "metadata": {},
     "output_type": "execute_result"
    }
   ],
   "source": [
    "ofat.combo"
   ]
  },
  {
   "cell_type": "code",
   "execution_count": 8,
   "metadata": {},
   "outputs": [
    {
     "name": "stdout",
     "output_type": "stream",
     "text": [
      "best score: [0.78  0.765 0.75  0.76  0.74 ]\n",
      "best param: {'n_estimators': 75, 'max_depth': 10, 'min_samples_split': 3}\n"
     ]
    }
   ],
   "source": [
    "print(f\"best score: {ofat.best_score}\")\n",
    "print(f\"best param: {ofat.best_param}\")"
   ]
  }
 ],
 "metadata": {
  "kernelspec": {
   "display_name": "Python 3",
   "language": "python",
   "name": "python3"
  },
  "language_info": {
   "codemirror_mode": {
    "name": "ipython",
    "version": 3
   },
   "file_extension": ".py",
   "mimetype": "text/x-python",
   "name": "python",
   "nbconvert_exporter": "python",
   "pygments_lexer": "ipython3",
   "version": "3.9.13"
  },
  "orig_nbformat": 4
 },
 "nbformat": 4,
 "nbformat_minor": 2
}
